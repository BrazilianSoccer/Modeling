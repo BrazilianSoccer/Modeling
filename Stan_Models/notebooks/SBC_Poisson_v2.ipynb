{
 "cells": [
  {
   "cell_type": "code",
   "execution_count": 1,
   "metadata": {
    "vscode": {
     "languageId": "r"
    }
   },
   "outputs": [
    {
     "name": "stderr",
     "output_type": "stream",
     "text": [
      "This is cmdstanr version 0.7.1\n",
      "\n",
      "- CmdStanR documentation and vignettes: mc-stan.org/cmdstanr\n",
      "\n",
      "- CmdStan path: /Users/igor.michels/.cmdstan/cmdstan-2.34.1\n",
      "\n",
      "- CmdStan version: 2.34.1\n",
      "\n",
      "── \u001b[1mAttaching core tidyverse packages\u001b[22m ──────────────────────── tidyverse 2.0.0 ──\n",
      "\u001b[32m✔\u001b[39m \u001b[34mdplyr    \u001b[39m 1.1.4     \u001b[32m✔\u001b[39m \u001b[34mreadr    \u001b[39m 2.1.4\n",
      "\u001b[32m✔\u001b[39m \u001b[34mforcats  \u001b[39m 1.0.0     \u001b[32m✔\u001b[39m \u001b[34mstringr  \u001b[39m 1.5.1\n",
      "\u001b[32m✔\u001b[39m \u001b[34mggplot2  \u001b[39m 3.5.0     \u001b[32m✔\u001b[39m \u001b[34mtibble   \u001b[39m 3.2.1\n",
      "\u001b[32m✔\u001b[39m \u001b[34mlubridate\u001b[39m 1.9.3     \u001b[32m✔\u001b[39m \u001b[34mtidyr    \u001b[39m 1.3.1\n",
      "\u001b[32m✔\u001b[39m \u001b[34mpurrr    \u001b[39m 1.0.2     \n",
      "── \u001b[1mConflicts\u001b[22m ────────────────────────────────────────── tidyverse_conflicts() ──\n",
      "\u001b[31m✖\u001b[39m \u001b[34mdplyr\u001b[39m::\u001b[32mfilter()\u001b[39m masks \u001b[34mstats\u001b[39m::filter()\n",
      "\u001b[31m✖\u001b[39m \u001b[34mdplyr\u001b[39m::\u001b[32mlag()\u001b[39m    masks \u001b[34mstats\u001b[39m::lag()\n",
      "\u001b[36mℹ\u001b[39m Use the conflicted package (\u001b[3m\u001b[34m<http://conflicted.r-lib.org/>\u001b[39m\u001b[23m) to force all conflicts to become errors\n",
      "Warning message in readLines(stan_file):\n",
      "“linha final incompleta encontrada em '../models/Poisson_model_v2.stan'”\n"
     ]
    }
   ],
   "source": [
    "library(SBC);\n",
    "library(cmdstanr);\n",
    "library(tidyverse);\n",
    "options(mc.cores = parallel::detectCores());\n",
    "library(future);\n",
    "plan(multisession);\n",
    "\n",
    "options(SBC.min_chunk_size = 5);\n",
    "\n",
    "cache_dir <- \"./SBC_cache\"\n",
    "if(!dir.exists(cache_dir)) {\n",
    "    dir.create(cache_dir)\n",
    "}\n",
    "\n",
    "model_Poisson_v2 <- cmdstanr::cmdstan_model(\"../models/Poisson_model_v2.stan\")"
   ]
  },
  {
   "cell_type": "code",
   "execution_count": 2,
   "metadata": {
    "vscode": {
     "languageId": "r"
    }
   },
   "outputs": [],
   "source": [
    "data_generator_single_Poisson_v2 <- function(n_clubs, n_players_per_clubs){\n",
    "    n_seasons <- 1\n",
    "    clubs <- 1:n_clubs\n",
    "    force <- abs(rnorm(length(clubs) * n_players_per_clubs))\n",
    "    df <- data.frame(Club = clubs)\n",
    "    data <- merge(df, df, by = NULL) %>% filter(Club.x != Club.y)\n",
    "    data <- data %>% slice(rep(row_number(), n_seasons))\n",
    "    home_goals <- list()\n",
    "    away_goals <- list()\n",
    "    home_players <- array(NA, dim = c(nrow(data), 11))\n",
    "    away_players <- array(NA, dim = c(nrow(data), 11))\n",
    "    players <- seq(1, n_players_per_clubs)\n",
    "    for (i in 1:nrow(data)) {\n",
    "        home_team <- data[i, 1]\n",
    "        away_team <- data[i, 2]\n",
    "        home_players_game <- sample(players)[1:11]\n",
    "        away_players_game <- sample(players)[1:11]\n",
    "        home_force <- sum(force[(home_team - 1) *  n_players_per_clubs + home_players_game])\n",
    "        away_force <- sum(force[(away_team - 1) *  n_players_per_clubs + away_players_game])\n",
    "        home_goals <- append(home_goals, rpois(1, home_force / away_force))\n",
    "        away_goals <- append(away_goals, rpois(1, away_force / home_force))\n",
    "        home_players[i,] <- home_players_game\n",
    "        away_players[i,] <- home_players_game\n",
    "    }\n",
    "\n",
    "    data$home.goals <- home_goals\n",
    "    data$away.goals <- away_goals\n",
    "    names(data) <- c(\"home_name\", \"away_name\", \"home_goals\", \"away_goals\")\n",
    "\n",
    "    list(\n",
    "        variables = list(\n",
    "            skills = force\n",
    "        ),\n",
    "        generated = list(\n",
    "            n_games = nrow(data),\n",
    "            n_teams = n_clubs,\n",
    "            n_players_per_team = n_players_per_clubs,\n",
    "            home_team = data$home_name,\n",
    "            away_team = data$away_name,\n",
    "            home_score = data$home_goals,\n",
    "            away_score = data$away_goals,\n",
    "            home_players = home_players,\n",
    "            away_players = away_players\n",
    "        )\n",
    "    )\n",
    "}"
   ]
  },
  {
   "cell_type": "code",
   "execution_count": 3,
   "metadata": {
    "vscode": {
     "languageId": "r"
    }
   },
   "outputs": [],
   "source": [
    "run_model <- function(n_players_per_clubs){\n",
    "    set.seed(0)\n",
    "    n_sims <- 50\n",
    "    data_generator_Poisson_v2 <- SBC_generator_function(data_generator_single_Poisson_v2, n_clubs = 20,\n",
    "                                                        n_players_per_clubs = n_players_per_clubs)\n",
    "\n",
    "    dataset_Poisson_v2 <- generate_datasets(data_generator_Poisson_v2, n_sims)\n",
    "    backend_Poisson_v2 <- SBC_backend_cmdstan_sample(model_Poisson_v2, iter_warmup = 1000,\n",
    "                                                     iter_sampling = 2000, chains = 4)\n",
    "\n",
    "    results_Poisson_v2 <- compute_SBC(dataset_Poisson_v2, backend_Poisson_v2,\n",
    "                                      cache_mode = \"results\",\n",
    "                                      cache_location = file.path(cache_dir,\n",
    "                                                                 sprintf(\"results_Poisson_v2_%02d_players_per_club\",\n",
    "                                                                         n_players_per_clubs)))\n",
    "}"
   ]
  },
  {
   "cell_type": "code",
   "execution_count": 4,
   "metadata": {
    "vscode": {
     "languageId": "r"
    }
   },
   "outputs": [
    {
     "name": "stderr",
     "output_type": "stream",
     "text": [
      "Results loaded from cache file 'results_Poisson_v2_11_players_per_club'\n",
      "\n",
      "Results loaded from cache file 'results_Poisson_v2_12_players_per_club'\n",
      "\n",
      "Results loaded from cache file 'results_Poisson_v2_13_players_per_club'\n",
      "\n",
      "Results loaded from cache file 'results_Poisson_v2_14_players_per_club'\n",
      "\n",
      "Results loaded from cache file 'results_Poisson_v2_15_players_per_club'\n",
      "\n",
      "Results loaded from cache file 'results_Poisson_v2_16_players_per_club'\n",
      "\n",
      "Results loaded from cache file 'results_Poisson_v2_17_players_per_club'\n",
      "\n",
      "Results loaded from cache file 'results_Poisson_v2_18_players_per_club'\n",
      "\n",
      "Results loaded from cache file 'results_Poisson_v2_19_players_per_club'\n",
      "\n",
      "Results loaded from cache file 'results_Poisson_v2_20_players_per_club'\n",
      "\n"
     ]
    }
   ],
   "source": [
    "for (n_players_per_clubs in 11:20) {\n",
    "    run_model(n_players_per_clubs)\n",
    "}"
   ]
  },
  {
   "cell_type": "code",
   "execution_count": null,
   "metadata": {
    "vscode": {
     "languageId": "r"
    }
   },
   "outputs": [],
   "source": []
  }
 ],
 "metadata": {
  "kernelspec": {
   "display_name": "R",
   "language": "R",
   "name": "ir"
  },
  "language_info": {
   "codemirror_mode": "r",
   "file_extension": ".r",
   "mimetype": "text/x-r-source",
   "name": "R",
   "pygments_lexer": "r",
   "version": "4.3.2"
  },
  "orig_nbformat": 4
 },
 "nbformat": 4,
 "nbformat_minor": 2
}
